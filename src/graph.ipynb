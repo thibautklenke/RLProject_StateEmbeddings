{
 "cells": [
  {
   "metadata": {
    "ExecuteTime": {
     "end_time": "2025-08-11T11:29:55.486038Z",
     "start_time": "2025-08-11T11:29:55.483739Z"
    }
   },
   "cell_type": "code",
   "source": [
    "import numpy as np\n",
    "import pandas as pd\n",
    "from tbparse import SummaryReader\n",
    "import matplotlib.pyplot as plt\n",
    "import seaborn as sns"
   ],
   "id": "526d5126c969e71f",
   "outputs": [],
   "execution_count": 149
  },
  {
   "metadata": {
    "ExecuteTime": {
     "end_time": "2025-08-11T11:29:57.820565Z",
     "start_time": "2025-08-11T11:29:55.539766Z"
    }
   },
   "cell_type": "code",
   "source": [
    "env_names = [\"cartpole\", \"minigrid-unlock\"]\n",
    "env_name = env_names[1]\n",
    "\n",
    "cartpole_starting_from_steps = 0#200_000 # set this to 200_000 to have a plot where our implementation was better\n",
    "\n",
    "log_dir = f\"../data/logs/{env_name}/train\"\n",
    "reader = SummaryReader(log_dir, extra_columns={\"dir_name\"})\n",
    "df = reader.scalars\n",
    "\n",
    "df[\"ALG_ENV\"] = df[\"dir_name\"].apply(lambda x: \"-\".join(x.split(\"/\")[1::]))\n",
    "df.head(10)"
   ],
   "id": "a0f9a9bb04d3ea10",
   "outputs": [
    {
     "data": {
      "text/plain": [
       "    step                  tag  value                 dir_name  \\\n",
       "0   2500  eval/mean_ep_length  288.0  0/normal/128/logs/DQN_1   \n",
       "1   5000  eval/mean_ep_length  288.0  0/normal/128/logs/DQN_1   \n",
       "2   7500  eval/mean_ep_length  288.0  0/normal/128/logs/DQN_1   \n",
       "3  10000  eval/mean_ep_length  288.0  0/normal/128/logs/DQN_1   \n",
       "4  12500  eval/mean_ep_length  288.0  0/normal/128/logs/DQN_1   \n",
       "5  15000  eval/mean_ep_length  288.0  0/normal/128/logs/DQN_1   \n",
       "6  17500  eval/mean_ep_length  288.0  0/normal/128/logs/DQN_1   \n",
       "7  20000  eval/mean_ep_length  288.0  0/normal/128/logs/DQN_1   \n",
       "8  22500  eval/mean_ep_length  288.0  0/normal/128/logs/DQN_1   \n",
       "9  25000  eval/mean_ep_length  288.0  0/normal/128/logs/DQN_1   \n",
       "\n",
       "                 ALG_ENV  \n",
       "0  normal-128-logs-DQN_1  \n",
       "1  normal-128-logs-DQN_1  \n",
       "2  normal-128-logs-DQN_1  \n",
       "3  normal-128-logs-DQN_1  \n",
       "4  normal-128-logs-DQN_1  \n",
       "5  normal-128-logs-DQN_1  \n",
       "6  normal-128-logs-DQN_1  \n",
       "7  normal-128-logs-DQN_1  \n",
       "8  normal-128-logs-DQN_1  \n",
       "9  normal-128-logs-DQN_1  "
      ],
      "text/html": [
       "<div>\n",
       "<style scoped>\n",
       "    .dataframe tbody tr th:only-of-type {\n",
       "        vertical-align: middle;\n",
       "    }\n",
       "\n",
       "    .dataframe tbody tr th {\n",
       "        vertical-align: top;\n",
       "    }\n",
       "\n",
       "    .dataframe thead th {\n",
       "        text-align: right;\n",
       "    }\n",
       "</style>\n",
       "<table border=\"1\" class=\"dataframe\">\n",
       "  <thead>\n",
       "    <tr style=\"text-align: right;\">\n",
       "      <th></th>\n",
       "      <th>step</th>\n",
       "      <th>tag</th>\n",
       "      <th>value</th>\n",
       "      <th>dir_name</th>\n",
       "      <th>ALG_ENV</th>\n",
       "    </tr>\n",
       "  </thead>\n",
       "  <tbody>\n",
       "    <tr>\n",
       "      <th>0</th>\n",
       "      <td>2500</td>\n",
       "      <td>eval/mean_ep_length</td>\n",
       "      <td>288.0</td>\n",
       "      <td>0/normal/128/logs/DQN_1</td>\n",
       "      <td>normal-128-logs-DQN_1</td>\n",
       "    </tr>\n",
       "    <tr>\n",
       "      <th>1</th>\n",
       "      <td>5000</td>\n",
       "      <td>eval/mean_ep_length</td>\n",
       "      <td>288.0</td>\n",
       "      <td>0/normal/128/logs/DQN_1</td>\n",
       "      <td>normal-128-logs-DQN_1</td>\n",
       "    </tr>\n",
       "    <tr>\n",
       "      <th>2</th>\n",
       "      <td>7500</td>\n",
       "      <td>eval/mean_ep_length</td>\n",
       "      <td>288.0</td>\n",
       "      <td>0/normal/128/logs/DQN_1</td>\n",
       "      <td>normal-128-logs-DQN_1</td>\n",
       "    </tr>\n",
       "    <tr>\n",
       "      <th>3</th>\n",
       "      <td>10000</td>\n",
       "      <td>eval/mean_ep_length</td>\n",
       "      <td>288.0</td>\n",
       "      <td>0/normal/128/logs/DQN_1</td>\n",
       "      <td>normal-128-logs-DQN_1</td>\n",
       "    </tr>\n",
       "    <tr>\n",
       "      <th>4</th>\n",
       "      <td>12500</td>\n",
       "      <td>eval/mean_ep_length</td>\n",
       "      <td>288.0</td>\n",
       "      <td>0/normal/128/logs/DQN_1</td>\n",
       "      <td>normal-128-logs-DQN_1</td>\n",
       "    </tr>\n",
       "    <tr>\n",
       "      <th>5</th>\n",
       "      <td>15000</td>\n",
       "      <td>eval/mean_ep_length</td>\n",
       "      <td>288.0</td>\n",
       "      <td>0/normal/128/logs/DQN_1</td>\n",
       "      <td>normal-128-logs-DQN_1</td>\n",
       "    </tr>\n",
       "    <tr>\n",
       "      <th>6</th>\n",
       "      <td>17500</td>\n",
       "      <td>eval/mean_ep_length</td>\n",
       "      <td>288.0</td>\n",
       "      <td>0/normal/128/logs/DQN_1</td>\n",
       "      <td>normal-128-logs-DQN_1</td>\n",
       "    </tr>\n",
       "    <tr>\n",
       "      <th>7</th>\n",
       "      <td>20000</td>\n",
       "      <td>eval/mean_ep_length</td>\n",
       "      <td>288.0</td>\n",
       "      <td>0/normal/128/logs/DQN_1</td>\n",
       "      <td>normal-128-logs-DQN_1</td>\n",
       "    </tr>\n",
       "    <tr>\n",
       "      <th>8</th>\n",
       "      <td>22500</td>\n",
       "      <td>eval/mean_ep_length</td>\n",
       "      <td>288.0</td>\n",
       "      <td>0/normal/128/logs/DQN_1</td>\n",
       "      <td>normal-128-logs-DQN_1</td>\n",
       "    </tr>\n",
       "    <tr>\n",
       "      <th>9</th>\n",
       "      <td>25000</td>\n",
       "      <td>eval/mean_ep_length</td>\n",
       "      <td>288.0</td>\n",
       "      <td>0/normal/128/logs/DQN_1</td>\n",
       "      <td>normal-128-logs-DQN_1</td>\n",
       "    </tr>\n",
       "  </tbody>\n",
       "</table>\n",
       "</div>"
      ]
     },
     "execution_count": 150,
     "metadata": {},
     "output_type": "execute_result"
    }
   ],
   "execution_count": 150
  },
  {
   "metadata": {
    "ExecuteTime": {
     "end_time": "2025-08-11T11:29:57.869154Z",
     "start_time": "2025-08-11T11:29:57.861764Z"
    }
   },
   "cell_type": "code",
   "source": [
    "algs_envs = df[\"ALG_ENV\"].unique()\n",
    "algs_envs"
   ],
   "id": "7a319749324b944e",
   "outputs": [
    {
     "data": {
      "text/plain": [
       "array(['normal-128-logs-DQN_1', 'pretrain_combined-128-logs-DQN_1',\n",
       "       'normal-128-logs-DQN_2'], dtype=object)"
      ]
     },
     "execution_count": 151,
     "metadata": {},
     "output_type": "execute_result"
    }
   ],
   "execution_count": 151
  },
  {
   "metadata": {
    "ExecuteTime": {
     "end_time": "2025-08-11T11:29:58.089256Z",
     "start_time": "2025-08-11T11:29:57.948019Z"
    }
   },
   "cell_type": "code",
   "source": [
    "def percentile_lower(x: pd.Series) -> pd.DataFrame:\n",
    "    return np.percentile(x, 20)\n",
    "\n",
    "def percentile_upper(x: pd.Series) -> pd.DataFrame:\n",
    "    return np.percentile(x, 80)\n",
    "\n",
    "df_pivot = df[df[\"tag\"] == \"eval/mean_reward\"].pivot_table(\n",
    "        index=\"step\",\n",
    "        columns=\"ALG_ENV\",\n",
    "        values=\"value\",\n",
    "        aggfunc=[np.median, percentile_lower, percentile_upper],\n",
    ")\n",
    "df_pivot.head()"
   ],
   "id": "3971d841fe85f7ff",
   "outputs": [
    {
     "name": "stderr",
     "output_type": "stream",
     "text": [
      "/tmp/ipykernel_35462/2794522608.py:7: FutureWarning: The provided callable <function median at 0x7d06b2ba4360> is currently using DataFrameGroupBy.median. In a future version of pandas, the provided callable will be used directly. To keep current behavior pass the string \"median\" instead.\n",
      "  df_pivot = df[df[\"tag\"] == \"eval/mean_reward\"].pivot_table(\n"
     ]
    },
    {
     "data": {
      "text/plain": [
       "                       median                        \\\n",
       "ALG_ENV normal-128-logs-DQN_1 normal-128-logs-DQN_2   \n",
       "step                                                  \n",
       "2500                      0.0                   0.0   \n",
       "5000                      0.0                   0.0   \n",
       "7500                      0.0                   0.0   \n",
       "10000                     0.0                   0.0   \n",
       "12500                     0.0                   0.0   \n",
       "\n",
       "                                              percentile_lower  \\\n",
       "ALG_ENV pretrain_combined-128-logs-DQN_1 normal-128-logs-DQN_1   \n",
       "step                                                             \n",
       "2500                                 0.0                   0.0   \n",
       "5000                                 0.0                   0.0   \n",
       "7500                                 0.0                   0.0   \n",
       "10000                                0.0                   0.0   \n",
       "12500                                0.0                   0.0   \n",
       "\n",
       "                                                                \\\n",
       "ALG_ENV normal-128-logs-DQN_2 pretrain_combined-128-logs-DQN_1   \n",
       "step                                                             \n",
       "2500                      0.0                              0.0   \n",
       "5000                      0.0                              0.0   \n",
       "7500                      0.0                              0.0   \n",
       "10000                     0.0                              0.0   \n",
       "12500                     0.0                              0.0   \n",
       "\n",
       "             percentile_upper                        \\\n",
       "ALG_ENV normal-128-logs-DQN_1 normal-128-logs-DQN_2   \n",
       "step                                                  \n",
       "2500                      0.0                   0.0   \n",
       "5000                      0.0                   0.0   \n",
       "7500                      0.0                   0.0   \n",
       "10000                     0.0                   0.0   \n",
       "12500                     0.0                   0.0   \n",
       "\n",
       "                                          \n",
       "ALG_ENV pretrain_combined-128-logs-DQN_1  \n",
       "step                                      \n",
       "2500                                 0.0  \n",
       "5000                                 0.0  \n",
       "7500                                 0.0  \n",
       "10000                                0.0  \n",
       "12500                                0.0  "
      ],
      "text/html": [
       "<div>\n",
       "<style scoped>\n",
       "    .dataframe tbody tr th:only-of-type {\n",
       "        vertical-align: middle;\n",
       "    }\n",
       "\n",
       "    .dataframe tbody tr th {\n",
       "        vertical-align: top;\n",
       "    }\n",
       "\n",
       "    .dataframe thead tr th {\n",
       "        text-align: left;\n",
       "    }\n",
       "\n",
       "    .dataframe thead tr:last-of-type th {\n",
       "        text-align: right;\n",
       "    }\n",
       "</style>\n",
       "<table border=\"1\" class=\"dataframe\">\n",
       "  <thead>\n",
       "    <tr>\n",
       "      <th></th>\n",
       "      <th colspan=\"3\" halign=\"left\">median</th>\n",
       "      <th colspan=\"3\" halign=\"left\">percentile_lower</th>\n",
       "      <th colspan=\"3\" halign=\"left\">percentile_upper</th>\n",
       "    </tr>\n",
       "    <tr>\n",
       "      <th>ALG_ENV</th>\n",
       "      <th>normal-128-logs-DQN_1</th>\n",
       "      <th>normal-128-logs-DQN_2</th>\n",
       "      <th>pretrain_combined-128-logs-DQN_1</th>\n",
       "      <th>normal-128-logs-DQN_1</th>\n",
       "      <th>normal-128-logs-DQN_2</th>\n",
       "      <th>pretrain_combined-128-logs-DQN_1</th>\n",
       "      <th>normal-128-logs-DQN_1</th>\n",
       "      <th>normal-128-logs-DQN_2</th>\n",
       "      <th>pretrain_combined-128-logs-DQN_1</th>\n",
       "    </tr>\n",
       "    <tr>\n",
       "      <th>step</th>\n",
       "      <th></th>\n",
       "      <th></th>\n",
       "      <th></th>\n",
       "      <th></th>\n",
       "      <th></th>\n",
       "      <th></th>\n",
       "      <th></th>\n",
       "      <th></th>\n",
       "      <th></th>\n",
       "    </tr>\n",
       "  </thead>\n",
       "  <tbody>\n",
       "    <tr>\n",
       "      <th>2500</th>\n",
       "      <td>0.0</td>\n",
       "      <td>0.0</td>\n",
       "      <td>0.0</td>\n",
       "      <td>0.0</td>\n",
       "      <td>0.0</td>\n",
       "      <td>0.0</td>\n",
       "      <td>0.0</td>\n",
       "      <td>0.0</td>\n",
       "      <td>0.0</td>\n",
       "    </tr>\n",
       "    <tr>\n",
       "      <th>5000</th>\n",
       "      <td>0.0</td>\n",
       "      <td>0.0</td>\n",
       "      <td>0.0</td>\n",
       "      <td>0.0</td>\n",
       "      <td>0.0</td>\n",
       "      <td>0.0</td>\n",
       "      <td>0.0</td>\n",
       "      <td>0.0</td>\n",
       "      <td>0.0</td>\n",
       "    </tr>\n",
       "    <tr>\n",
       "      <th>7500</th>\n",
       "      <td>0.0</td>\n",
       "      <td>0.0</td>\n",
       "      <td>0.0</td>\n",
       "      <td>0.0</td>\n",
       "      <td>0.0</td>\n",
       "      <td>0.0</td>\n",
       "      <td>0.0</td>\n",
       "      <td>0.0</td>\n",
       "      <td>0.0</td>\n",
       "    </tr>\n",
       "    <tr>\n",
       "      <th>10000</th>\n",
       "      <td>0.0</td>\n",
       "      <td>0.0</td>\n",
       "      <td>0.0</td>\n",
       "      <td>0.0</td>\n",
       "      <td>0.0</td>\n",
       "      <td>0.0</td>\n",
       "      <td>0.0</td>\n",
       "      <td>0.0</td>\n",
       "      <td>0.0</td>\n",
       "    </tr>\n",
       "    <tr>\n",
       "      <th>12500</th>\n",
       "      <td>0.0</td>\n",
       "      <td>0.0</td>\n",
       "      <td>0.0</td>\n",
       "      <td>0.0</td>\n",
       "      <td>0.0</td>\n",
       "      <td>0.0</td>\n",
       "      <td>0.0</td>\n",
       "      <td>0.0</td>\n",
       "      <td>0.0</td>\n",
       "    </tr>\n",
       "  </tbody>\n",
       "</table>\n",
       "</div>"
      ]
     },
     "execution_count": 152,
     "metadata": {},
     "output_type": "execute_result"
    }
   ],
   "execution_count": 152
  },
  {
   "metadata": {
    "ExecuteTime": {
     "end_time": "2025-08-11T11:29:58.173672Z",
     "start_time": "2025-08-11T11:29:58.171570Z"
    }
   },
   "cell_type": "code",
   "source": [
    "if env_name == \"minigrid-unlock\" and False:\n",
    "    # show starting from step 150_000\n",
    "    df_pivot = df_pivot[df_pivot.index >= cartpole_starting_from_steps].copy()\n",
    "\n",
    "    # make the columns to the cumulative sum\n",
    "    for col_name in df_pivot.columns:\n",
    "        df_pivot[col_name] = df_pivot[col_name].cumsum()"
   ],
   "id": "3da5d3bf1af4f06e",
   "outputs": [],
   "execution_count": 153
  },
  {
   "metadata": {
    "ExecuteTime": {
     "end_time": "2025-08-11T11:33:13.573085Z",
     "start_time": "2025-08-11T11:33:13.319954Z"
    }
   },
   "cell_type": "code",
   "source": [
    "# Start plot\n",
    "plt.figure(figsize=(8, 5))\n",
    "\n",
    "# Get color palette\n",
    "palette = sns.color_palette(\"tab10\", len(algs_envs))\n",
    "\n",
    "# Loop through each group\n",
    "for i, group in enumerate(algs_envs):\n",
    "    if group.find(\"qloss\") != -1:\n",
    "        continue\n",
    "\n",
    "    # Plot line using seaborn\n",
    "    sns.lineplot(x=df_pivot.index, y=df_pivot[\"median\"][group], label=group, color=palette[i])\n",
    "\n",
    "    # Add error bounds\n",
    "    plt.fill_between(\n",
    "        df_pivot.index,\n",
    "        df_pivot[\"percentile_lower\"][group],\n",
    "        df_pivot[\"percentile_upper\"][group],\n",
    "        alpha=0.2,\n",
    "        color=palette[i],\n",
    "    )\n",
    "\n",
    "# Final touches\n",
    "plt.xlabel(\"Step\")\n",
    "plt.ylabel(\"Reward\")\n",
    "plt.title(f\"Total Rewards in Evaluation Environments for {env_name}\")\n",
    "plt.xticks(rotation=45)\n",
    "plt.tight_layout()\n",
    "plt.legend(title=\"Algorithms\")\n",
    "\n",
    "plt.savefig(f\"{env_name}_out.png\")"
   ],
   "id": "6b8374f3d8bd3fdb",
   "outputs": [
    {
     "data": {
      "text/plain": [
       "<Figure size 800x500 with 1 Axes>"
      ],
      "image/png": "[encoded data removed]"
     },
     "metadata": {},
     "output_type": "display_data"
    }
   ],
   "execution_count": 156
  },
  {
   "metadata": {
    "ExecuteTime": {
     "end_time": "2025-08-11T11:29:58.768691Z",
     "start_time": "2025-08-11T11:29:58.575641Z"
    }
   },
   "cell_type": "code",
   "source": "! pwd && ls ..",
   "id": "c168e2c1fbca3859",
   "outputs": [
    {
     "name": "stdout",
     "output_type": "stream",
     "text": [
      "/home/niklas/Projects/RLProject_StateEmbeddings/src\r\n",
      "data\t\t\t\t\t\t     move_to_s3.sh   src\r\n",
      "embedding_net_minigrid-unlock-pretrain_combined.pth  output.png      tests\r\n",
      "flake.lock\t\t\t\t\t     pyproject.toml  uv.lock\r\n",
      "flake.nix\t\t\t\t\t     README.md\r\n",
      "logs\t\t\t\t\t\t     remote_logs\r\n"
     ]
    }
   ],
   "execution_count": 155
  }
 ],
 "metadata": {
  "kernelspec": {
   "name": "project",
   "language": "python",
   "display_name": "project"
  }
 },
 "nbformat": 4,
 "nbformat_minor": 5
}
